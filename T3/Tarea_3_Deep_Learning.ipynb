{
  "cells": [
    {
      "cell_type": "markdown",
      "metadata": {
        "id": "bnpr1VPKUwY9"
      },
      "source": [
        "# T3 CC6204 - Deep Learning\n",
        "\n",
        "\n",
        "### **Por: Álvaro Morales Torres**\n",
        "\n",
        "15-11-2023\n",
        "\n",
        "Trabajado en local con CUDA y PyTorch\n",
        "\n",
        "SPECS:\n",
        "\n",
        "**CPU**: AMD Ryzen 7 5700XX (8 Core) @4.5 GHz.\n",
        "\n",
        "**GPU**: NVIDIA GeForce RTX 3060 Ti (8GB VRAM).\n",
        "\n",
        "16 GB RAM @ 3200 MHz.\n",
        "\n",
        "En esta tarea van a crear una red neuronal que clasifique mensajes como spam o no spam. Lo primero es descargar la data:"
      ]
    },
    {
      "cell_type": "code",
      "execution_count": 1,
      "metadata": {
        "id": "ZkXXLb0VUmFX"
      },
      "outputs": [
        {
          "name": "stderr",
          "output_type": "stream",
          "text": [
            "--2023-11-15 08:07:36--  https://www.ivan-sipiran.com/downloads/spam.csv\n",
            "Loaded CA certificate '/usr/ssl/certs/ca-bundle.crt'\n",
            "Resolving www.ivan-sipiran.com (www.ivan-sipiran.com)... 66.96.149.31\n",
            "Connecting to www.ivan-sipiran.com (www.ivan-sipiran.com)|66.96.149.31|:443... connected.\n",
            "HTTP request sent, awaiting response... 200 OK\n",
            "Length: 471781 (461K)\n",
            "Saving to: 'spam.csv'\n",
            "\n",
            "     0K .......... .......... .......... .......... .......... 10%  252K 2s\n",
            "    50K .......... .......... .......... .......... .......... 21%  252K 1s\n",
            "   100K .......... .......... .......... .......... .......... 32% 29.1M 1s\n",
            "   150K .......... .......... .......... .......... .......... 43% 5.73M 1s\n",
            "   200K .......... .......... .......... .......... .......... 54%  264K 1s\n",
            "   250K .......... .......... .......... .......... .......... 65% 38.7M 0s\n",
            "   300K .......... .......... .......... .......... .......... 75% 7.13M 0s\n",
            "   350K .......... .......... .......... .......... .......... 86% 26.8M 0s\n",
            "   400K .......... .......... .......... .......... .......... 97%  266K 0s\n",
            "   450K ..........                                            100%  205G=0.8s\n",
            "\n",
            "2023-11-15 08:07:38 (580 KB/s) - 'spam.csv' saved [471781/471781]\n",
            "\n"
          ]
        }
      ],
      "source": [
        "!wget https://www.ivan-sipiran.com/downloads/spam.csv"
      ]
    },
    {
      "cell_type": "markdown",
      "metadata": {
        "id": "H9567d6oVknI"
      },
      "source": [
        "Los datos vienen en un archivo CSV que contiene dos columnas \"text\" y \"label\". La columna \"text\" contiene el texto del mensaje y la columna \"label\" contiene las etiquetas \"ham\" y \"spam\". Un mensaje \"ham\" es un mensaje que no se considera spam.\n",
        "\n",
        "# Tarea\n",
        "El objetivo de la tarea es crear una red neuronal que clasifique los datos entregados. Para lograr esto debes:\n",
        "\n",
        "\n",
        "\n",
        "*   Implementar el pre-procesamiento de los datos que creas necesario.\n",
        "*   Particionar los datos en 70% entrenamiento, 10% validación y 20% test.\n",
        "*   Usa los datos de entrenamiento y valiadación para tus experimentos y sólo usa el conjunto de test para reportar el resultado final.\n",
        "\n",
        "Para el diseño de la red neuronal puedes usar una red neuronal recurrente o una red basada en transformers. El objetivo de la tarea no es obtener el performance ultra máximo, sino entender qué decisiones de diseño afectan la solución de un problema como este. Lo que si es necesario (como siempre) es que discutas los resultados y decisiones realizadas.\n",
        "\n"
      ]
    },
    {
      "cell_type": "code",
      "execution_count": 606,
      "metadata": {
        "id": "5pmzo1gcVXvY"
      },
      "outputs": [
        {
          "data": {
            "text/html": [
              "<div>\n",
              "<style scoped>\n",
              "    .dataframe tbody tr th:only-of-type {\n",
              "        vertical-align: middle;\n",
              "    }\n",
              "\n",
              "    .dataframe tbody tr th {\n",
              "        vertical-align: top;\n",
              "    }\n",
              "\n",
              "    .dataframe thead th {\n",
              "        text-align: right;\n",
              "    }\n",
              "</style>\n",
              "<table border=\"1\" class=\"dataframe\">\n",
              "  <thead>\n",
              "    <tr style=\"text-align: right;\">\n",
              "      <th></th>\n",
              "      <th>text</th>\n",
              "      <th>label</th>\n",
              "    </tr>\n",
              "  </thead>\n",
              "  <tbody>\n",
              "    <tr>\n",
              "      <th>0</th>\n",
              "      <td>Go until jurong point, crazy.. Available only ...</td>\n",
              "      <td>ham</td>\n",
              "    </tr>\n",
              "    <tr>\n",
              "      <th>1</th>\n",
              "      <td>Ok lar... Joking wif u oni...</td>\n",
              "      <td>ham</td>\n",
              "    </tr>\n",
              "    <tr>\n",
              "      <th>2</th>\n",
              "      <td>Free entry in 2 a wkly comp to win FA Cup fina...</td>\n",
              "      <td>spam</td>\n",
              "    </tr>\n",
              "    <tr>\n",
              "      <th>3</th>\n",
              "      <td>U dun say so early hor... U c already then say...</td>\n",
              "      <td>ham</td>\n",
              "    </tr>\n",
              "    <tr>\n",
              "      <th>4</th>\n",
              "      <td>Nah I don't think he goes to usf, he lives aro...</td>\n",
              "      <td>ham</td>\n",
              "    </tr>\n",
              "  </tbody>\n",
              "</table>\n",
              "</div>"
            ],
            "text/plain": [
              "                                                text label\n",
              "0  Go until jurong point, crazy.. Available only ...   ham\n",
              "1                      Ok lar... Joking wif u oni...   ham\n",
              "2  Free entry in 2 a wkly comp to win FA Cup fina...  spam\n",
              "3  U dun say so early hor... U c already then say...   ham\n",
              "4  Nah I don't think he goes to usf, he lives aro...   ham"
            ]
          },
          "execution_count": 606,
          "metadata": {},
          "output_type": "execute_result"
        }
      ],
      "source": [
        "# let's take a look at the data\n",
        "import pandas as pd\n",
        "df = pd.read_csv('spam.csv', encoding='utf-8', dtype=str, keep_default_na=False)\n",
        "# keep_default_na=False to avoid pandas converting empty strings and numbers to NaN\n",
        "df.head()\n"
      ]
    },
    {
      "cell_type": "code",
      "execution_count": 607,
      "metadata": {},
      "outputs": [
        {
          "name": "stdout",
          "output_type": "stream",
          "text": [
            "Total rows:  5572\n",
            "Spam:  746\n",
            "Ham:  4617\n",
            "Average text len:  78.42623833452978\n",
            "Median text len:  59.0\n",
            "Longest text len:  910\n"
          ]
        }
      ],
      "source": [
        "# simple enough.\n",
        "# how much data do we have?\n",
        "print(\"Total rows: \", len(df))\n",
        "# how many spam and ham?\n",
        "print(\"Spam: \", len(df[df['label'] == \"spam\"]))\n",
        "print(\"Ham: \", len(df[df['label'] == \"ham\"]))\n",
        "\n",
        "# how long are the texts?\n",
        "# average text length\n",
        "print(\"Average text len: \", df['text'].map(lambda x: len(x)).mean())\n",
        "# median text length\n",
        "print(\"Median text len: \", df['text'].map(lambda x: len(x)).median())\n",
        "# longest text length\n",
        "print(\"Longest text len: \", df['text'].map(lambda x: len(x)).max())"
      ]
    },
    {
      "cell_type": "markdown",
      "metadata": {},
      "source": [
        "Parece que la mayoría de textos son cortos, mientras que la minoría son más largos. Tendré esto en mente al elegir el tamaño de la secuencia de entrada."
      ]
    },
    {
      "cell_type": "markdown",
      "metadata": {},
      "source": [
        "Diseñemos una RNN para resolver este problema."
      ]
    },
    {
      "cell_type": "markdown",
      "metadata": {},
      "source": [
        "## Parte 1: Pre-procesamiento de los datos\n",
        "\n",
        "La idea es hacer esto a nivel de palabras. Por lo tanto necesitamos deshacernos de la puntuación y de las mayúsculas. Y por supuesto, dividir cada mensaje en palabras individuales."
      ]
    },
    {
      "cell_type": "code",
      "execution_count": 608,
      "metadata": {},
      "outputs": [
        {
          "data": {
            "text/html": [
              "<div>\n",
              "<style scoped>\n",
              "    .dataframe tbody tr th:only-of-type {\n",
              "        vertical-align: middle;\n",
              "    }\n",
              "\n",
              "    .dataframe tbody tr th {\n",
              "        vertical-align: top;\n",
              "    }\n",
              "\n",
              "    .dataframe thead th {\n",
              "        text-align: right;\n",
              "    }\n",
              "</style>\n",
              "<table border=\"1\" class=\"dataframe\">\n",
              "  <thead>\n",
              "    <tr style=\"text-align: right;\">\n",
              "      <th></th>\n",
              "      <th>text</th>\n",
              "      <th>label</th>\n",
              "    </tr>\n",
              "  </thead>\n",
              "  <tbody>\n",
              "    <tr>\n",
              "      <th>0</th>\n",
              "      <td>go until jurong point crazy available only in ...</td>\n",
              "      <td>ham</td>\n",
              "    </tr>\n",
              "    <tr>\n",
              "      <th>1</th>\n",
              "      <td>ok lar joking wif u oni</td>\n",
              "      <td>ham</td>\n",
              "    </tr>\n",
              "    <tr>\n",
              "      <th>2</th>\n",
              "      <td>free entry in 2 a wkly comp to win fa cup fina...</td>\n",
              "      <td>spam</td>\n",
              "    </tr>\n",
              "    <tr>\n",
              "      <th>3</th>\n",
              "      <td>u dun say so early hor u c already then say</td>\n",
              "      <td>ham</td>\n",
              "    </tr>\n",
              "    <tr>\n",
              "      <th>4</th>\n",
              "      <td>nah i dont think he goes to usf he lives aroun...</td>\n",
              "      <td>ham</td>\n",
              "    </tr>\n",
              "  </tbody>\n",
              "</table>\n",
              "</div>"
            ],
            "text/plain": [
              "                                                text label\n",
              "0  go until jurong point crazy available only in ...   ham\n",
              "1                            ok lar joking wif u oni   ham\n",
              "2  free entry in 2 a wkly comp to win fa cup fina...  spam\n",
              "3        u dun say so early hor u c already then say   ham\n",
              "4  nah i dont think he goes to usf he lives aroun...   ham"
            ]
          },
          "execution_count": 608,
          "metadata": {},
          "output_type": "execute_result"
        }
      ],
      "source": [
        "from string import punctuation\n",
        "\n",
        "# remove punctuation and set everything to lowercase\n",
        "df['text'] = df['text'].map(lambda x: ''.join(c for c in x if c not in punctuation).lower())\n",
        "df.head()"
      ]
    },
    {
      "cell_type": "code",
      "execution_count": 609,
      "metadata": {},
      "outputs": [
        {
          "name": "stdout",
          "output_type": "stream",
          "text": [
            "Total words:  83643\n",
            "['go', 'until', 'jurong', 'point', 'crazy', 'available', 'only', 'in', 'bugis', 'n', 'great', 'world', 'la', 'e', 'buffet', 'cine', 'there', 'got', 'amore', 'wat', 'ok', 'lar', 'joking', 'wif', 'u', 'oni', 'free', 'entry', 'in', '2', 'a', 'wkly', 'comp', 'to', 'win', 'fa', 'cup', 'final', 'tkts', '21st', 'may', '2005', 'text', 'fa', 'to', '87121', 'to', 'receive', 'entry', 'questionstd', 'txt', 'ratetcs', 'apply', '08452810075over18s', 'u', 'dun', 'say', 'so', 'early', 'hor', 'u', 'c', 'already', 'then', 'say', 'nah', 'i', 'dont', 'think', 'he', 'goes', 'to', 'usf', 'he', 'lives', 'around', 'here', 'though', 'freemsg', 'hey', 'there', 'darling', 'its', 'been', '3', 'weeks', 'now', 'and', 'no', 'word', 'back', 'id', 'like', 'some', 'fun', 'you', 'up', 'for', 'it', 'still']\n"
          ]
        }
      ],
      "source": [
        "# now we get all the words\n",
        "all_text = ' '.join(df['text'])\n",
        "words = all_text.split()\n",
        "print(\"Total words: \", len(words))\n",
        "print(words[:100])"
      ]
    },
    {
      "cell_type": "markdown",
      "metadata": {},
      "source": [
        "Hay palabras medias raras y sin sentido, pero podrían ser representativas del spam."
      ]
    },
    {
      "cell_type": "markdown",
      "metadata": {},
      "source": [
        "## Parte 2: Codificar palabras y embedding de labels\n",
        "\n",
        "Cada palabra es mapeada a un int."
      ]
    },
    {
      "cell_type": "code",
      "execution_count": 610,
      "metadata": {},
      "outputs": [
        {
          "name": "stdout",
          "output_type": "stream",
          "text": [
            "0    go until jurong point crazy available only in ...\n",
            "1                              ok lar joking wif u oni\n",
            "2    free entry in 2 a wkly comp to win fa cup fina...\n",
            "Name: text, dtype: object\n",
            "[[45, 447, 4303, 786, 704, 670, 64, 8, 1230, 89, 119, 350, 1231, 152, 2851, 1232, 66, 56, 4304, 137], [48, 307, 1384, 431, 6, 1809], [47, 448, 8, 22, 4, 745, 891, 1, 179, 1810, 1126, 616, 1811, 2196, 261, 2197, 69, 1810, 1, 1812, 1, 308, 448, 2852, 78, 2853, 375, 2854]]\n",
            "Unique words:  9396\n"
          ]
        }
      ],
      "source": [
        "from collections import Counter\n",
        "\n",
        "# build word dictionary {word: frequency}\n",
        "counts = Counter(words)\n",
        "# sort words by frequency\n",
        "vocab = sorted(counts, key=counts.get, reverse=True)\n",
        "# dictionary to map words to integers\n",
        "vocab_to_int = {word: ii for ii, word in enumerate(vocab, 1)}\n",
        "# turn each text into an array of integers\n",
        "text_ints = []\n",
        "for text in df['text']:\n",
        "    text_ints.append([vocab_to_int[word] for word in text.split()])\n",
        "print(df['text'][0:3])\n",
        "print(text_ints[:3])\n",
        "print(\"Unique words: \", len((vocab_to_int)))\n"
      ]
    },
    {
      "cell_type": "markdown",
      "metadata": {},
      "source": [
        "Y para las etiquetas, digamos que 0 es ham y 1 es spam."
      ]
    },
    {
      "cell_type": "code",
      "execution_count": 611,
      "metadata": {},
      "outputs": [
        {
          "name": "stdout",
          "output_type": "stream",
          "text": [
            "0     ham\n",
            "1     ham\n",
            "2    spam\n",
            "Name: label, dtype: object\n",
            "[0, 0, 1]\n"
          ]
        }
      ],
      "source": [
        "bin_labels = []\n",
        "for label in df['label']:\n",
        "    if label == \"spam\":\n",
        "        bin_labels.append(1)\n",
        "    else:\n",
        "        bin_labels.append(0)\n",
        "print(df['label'][0:3])\n",
        "print(bin_labels[:3])"
      ]
    },
    {
      "cell_type": "markdown",
      "metadata": {},
      "source": [
        "Ahora que tenemos los textos codificados, veamos si hay reviews de len 0 y cuál es el len promedio, mediano y máximo de secuecnias.\n",
        "\n",
        "Estos datos nos ayudarán a tomar una decisión informada al elegir el tamaño de la secuencia de entrada."
      ]
    },
    {
      "cell_type": "code",
      "execution_count": 612,
      "metadata": {},
      "outputs": [
        {
          "name": "stdout",
          "output_type": "stream",
          "text": [
            "Total texts: 5572\n",
            "0-len texts: 3\n",
            "Average text len: 67.95121951219512\n",
            "Median text len: 41\n",
            "Maximum text len: 171\n"
          ]
        }
      ],
      "source": [
        "lens = Counter([len(x) for x in text_ints])\n",
        "print(f\"Total texts: {len(text_ints)}\")\n",
        "print(f\"0-len texts: {lens[0]}\")\n",
        "print(f\"Average text len: {sum(lens.values()) / len(lens)}\")\n",
        "print(f\"Median text len: {sorted(lens)[len(lens) // 2]}\")\n",
        "print(f\"Maximum text len: {max(lens)}\")"
      ]
    },
    {
      "cell_type": "markdown",
      "metadata": {},
      "source": [
        "Vemos que en promedio las reviews tienen 69 palabras, la mediana es de 41, y el máximo es 171. parece haber una varianza bastante alta en el largo de las secuencias.\n",
        "\n",
        "Idealmente, no queremos que la vasta mayoría de los features sean 0's. Por lo tanto, elegiremos un tamaño de secuencia de entrada de 50."
      ]
    },
    {
      "cell_type": "code",
      "execution_count": 613,
      "metadata": {},
      "outputs": [
        {
          "name": "stdout",
          "output_type": "stream",
          "text": [
            "Total texts: 5569\n"
          ]
        }
      ],
      "source": [
        "import numpy as np\n",
        "# remove texts with 0 length\n",
        "non_zero_idx = [ii for ii, text in enumerate(text_ints) if len(text) != 0]\n",
        "text_ints = [text_ints[ii] for ii in non_zero_idx]\n",
        "bin_labels = np.array([bin_labels[ii] for ii in non_zero_idx])\n",
        "print(f\"Total texts: {len(text_ints)}\")"
      ]
    },
    {
      "cell_type": "markdown",
      "metadata": {},
      "source": [
        "## Parte 3: Padding\n",
        "\n",
        "Definiendo `SEQ_LEN = 50`, hagamos padding de los textos para que todos tengan el mismo largo."
      ]
    },
    {
      "cell_type": "code",
      "execution_count": 614,
      "metadata": {},
      "outputs": [],
      "source": [
        "SEQ_LEN = 50"
      ]
    },
    {
      "cell_type": "code",
      "execution_count": 615,
      "metadata": {},
      "outputs": [],
      "source": [
        "def pad_features(text_ints, seq_len = SEQ_LEN):\n",
        "  features = np.zeros((len(text_ints), seq_len), dtype=int)\n",
        "\n",
        "  #Para cada review, se coloca en la matriz\n",
        "  for i, row in enumerate(text_ints):\n",
        "    features[i, -len(row):] = np.array(row)[:seq_len]\n",
        "  \n",
        "  return features"
      ]
    },
    {
      "cell_type": "code",
      "execution_count": 616,
      "metadata": {},
      "outputs": [
        {
          "name": "stdout",
          "output_type": "stream",
          "text": [
            "(5569, 50)\n",
            "[[   0    0    0    0    0    0    0    0    0    0    0    0    0    0]\n",
            " [   0    0    0    0    0    0    0    0    0    0    0    0    0    0]\n",
            " [   0    0    0    0    0    0    0    0    0   47  448    8   22    4]\n",
            " [   0    0    0    0    0    0    0    0    0    0    0    0    0    0]\n",
            " [   0    0    0    0    0    0    0    0    0    0    0    0    0    0]\n",
            " [   0    0    0    0    0  840  116   66 1570   42  100  193  585   21]\n",
            " [   0    0    0    0    0    0    0    0    0    0    0    0    0    0]\n",
            " [   0    0    0    0    0    0    0    0    0    0    0   72  222   13]\n",
            " [   0    0    0    0    0    0    0    0    0    0    0  672   72    4]\n",
            " [   0    0    0    0    0    0    0    0  129   13   92 1024  788   27]\n",
            " [   0    0    0    0    0    0    0    0    0    0    0    0    0    0]\n",
            " [   0    0    0    0    0    0    0    0    0    0    0 1816 2861    1]\n",
            " [   0    0    0    0    0    0    0    0    0    0    0  194    3   17]\n",
            " [ 170  100 1572   12    5  144  521    1  420    3   12   40 4309    2]\n",
            " [   0    0    0    0    0    0    0    0    0    0    0    0    0    0]\n",
            " [   0    0    0    0    0    0    0    0    0    0    0    0    0    0]\n",
            " [   0    0    0    0    0    0    0    0    0    0    0    0    0    0]\n",
            " [   0    0    0    0    0    0    0    0    0    0    0    0    0    0]\n",
            " [   0    0    0    0    0    0    0    0    0    0    0    0    0    0]\n",
            " [   0    0    0    0    0    0    0    0    0    0    0    0    0    0]\n",
            " [   0    0    0    0    0    0    0    0    0    0    0    0    0    0]\n",
            " [   0    0    0    0    0    0    0    0    0    0    0    0    0    0]\n",
            " [   0    0    0    0    0    0    0    0    0    0    0    0    0    0]\n",
            " [   0    0    0    0    0    0    0    0    0    0    0    0    0    0]\n",
            " [   0    0    0    0    0    0    0    0    0    0    0    0    0    0]\n",
            " [   0    0    0    0    0    0    0    0    0   37 4323  953    1  309]\n",
            " [   0    0    0    0    0    0    0    0    0    0    0    0    0    0]\n",
            " [   0    0    0    0    0    0    0    0    0  108    3 1029    5  451]]\n"
          ]
        }
      ],
      "source": [
        "features = pad_features(text_ints)\n",
        "print(features.shape)\n",
        "print(features[:28,13:27])"
      ]
    },
    {
      "cell_type": "markdown",
      "metadata": {},
      "source": [
        "Puede que esto parezca demasiado padding, pero los resultados terminaron siendo bastante buenos (spoiler)."
      ]
    },
    {
      "cell_type": "markdown",
      "metadata": {},
      "source": [
        "## Parte 4: Conujntos de entrenamiento, validación y test\n",
        "\n",
        "Habíamos dicho 70% train, 10% val y 20% test."
      ]
    },
    {
      "cell_type": "code",
      "execution_count": 617,
      "metadata": {},
      "outputs": [
        {
          "name": "stdout",
          "output_type": "stream",
          "text": [
            "\t\t\tFeatures:\t%'s:\n",
            "Train set: \t\t(3898, 50) \t69.99 \n",
            "Validation set: \t(557, 50) \t10.00 \n",
            "Test set: \t\t(1114, 50) \t20.00\n"
          ]
        }
      ],
      "source": [
        "TRAIN_RATIO = 0.7\n",
        "TEST_VS_VAL_RATIO = 0.3334\n",
        "\n",
        "# split the data. training set = 70%, validation set = 10%, test set = 20%\n",
        "split_idx = int(len(features)*TRAIN_RATIO)\n",
        "train_x, remaining_x = features[:split_idx], features[split_idx:]\n",
        "train_y, remaining_y = bin_labels[:split_idx], bin_labels[split_idx:]\n",
        "\n",
        "test_idx = int(len(remaining_x)*TEST_VS_VAL_RATIO)\n",
        "val_x, test_x = remaining_x[:test_idx], remaining_x[test_idx:]\n",
        "val_y, test_y = remaining_y[:test_idx], remaining_y[test_idx:]\n",
        "\n",
        "assert train_x.shape[0] + val_x.shape[0] + test_x.shape[0] == features.shape[0], \"Something went wrong with the split\"\n",
        "\n",
        "print(\"\\t\\t\\tFeatures:\\t%'s:\")\n",
        "print(\"Train set: \\t\\t{} \\t{:.2f}\".format(train_x.shape, 100*train_x.shape[0]/features.shape[0]),\n",
        "      \"\\nValidation set: \\t{} \\t{:.2f}\".format(val_x.shape, 100*val_x.shape[0]/features.shape[0]),\n",
        "      \"\\nTest set: \\t\\t{} \\t{:.2f}\".format(test_x.shape, 100*test_x.shape[0]/features.shape[0]))"
      ]
    },
    {
      "cell_type": "markdown",
      "metadata": {},
      "source": [
        "Idealmente queremos que la cantidad de elementos en train sean divisibles por el batch_size (en caso de que no lo sea, podemos pasarle el parámetro `drop_last=True` al DataLoader, pero esto no es ideal porque se ignorarían los datos restantes).\n",
        "\n",
        "Desafortunadamente, 3898 solo es divisible 1, 2, 1949 y 3898. Por lo que habrá que ocupar `drop_last=True` y escoger un batch_size tal que no ignoremos muchos datos.\n",
        "\n",
        "3898 es muy cercano a 3900, que es divisible por 50. Por lo tanto el batch_size será 50."
      ]
    },
    {
      "cell_type": "markdown",
      "metadata": {},
      "source": [
        "## Parte 5: Creación del modelo"
      ]
    },
    {
      "cell_type": "markdown",
      "metadata": {},
      "source": [
        "Usaremos una RNN igual a la que se usó en el Lab 11. Es decir con:\n",
        "- Una capa de embedding que convierte los tokens (palabras) a vectores de cierto tamaño (parámetro)\n",
        "- Una capa LTSM definida por el tamaño del estado oculto y el número de capas (parámetros)\n",
        "- Una capa de salida FC que mapea la salida del LSTM a una salida de cierto tamaño (parámetro)\n",
        "- Una capa de activación sigmoide con salida 0 o 1."
      ]
    },
    {
      "cell_type": "code",
      "execution_count": 628,
      "metadata": {},
      "outputs": [],
      "source": [
        "# rng dependent stuff starts here:\n",
        "import random\n",
        "import torch\n",
        "import torch.nn as nn\n",
        "import torch.nn.functional as F\n",
        "from torch.utils.data import TensorDataset, DataLoader\n",
        "SEED = 6669 # lml and nice\n",
        "\n",
        "random.seed(SEED)\n",
        "np.random.seed(SEED)\n",
        "torch.manual_seed(SEED)\n",
        "torch.cuda.manual_seed(SEED)\n",
        "torch.backends.cudnn.deterministic = True"
      ]
    },
    {
      "cell_type": "markdown",
      "metadata": {},
      "source": [
        "Hacemos nuestros data loaders. Como se dijo antes, el batch_size será 50, y necesitamos drop_last=True porque nuestro conjunto de train no es exactamente divisible por 50."
      ]
    },
    {
      "cell_type": "code",
      "execution_count": 629,
      "metadata": {},
      "outputs": [],
      "source": [
        "# create Datasets and DataLoaders\n",
        "train_data = TensorDataset(torch.from_numpy(train_x), torch.from_numpy(train_y))\n",
        "valid_data = TensorDataset(torch.from_numpy(val_x), torch.from_numpy(val_y))\n",
        "test_data = TensorDataset(torch.from_numpy(test_x), torch.from_numpy(test_y))\n",
        "\n",
        "# dataloaders\n",
        "BATCH_SIZE = 50\n",
        "\n",
        "train_loader = DataLoader(train_data, shuffle=True, batch_size=BATCH_SIZE, drop_last=True)\n",
        "valid_loader = DataLoader(valid_data, shuffle=True, batch_size=BATCH_SIZE, drop_last=True)\n",
        "test_loader = DataLoader(test_data, shuffle=False, batch_size=BATCH_SIZE, drop_last=True)"
      ]
    },
    {
      "cell_type": "code",
      "execution_count": 630,
      "metadata": {},
      "outputs": [
        {
          "name": "stdout",
          "output_type": "stream",
          "text": [
            "Training on GPU.\n"
          ]
        }
      ],
      "source": [
        "# check if GPU is available\n",
        "train_on_gpu=torch.cuda.is_available()\n",
        "\n",
        "if(train_on_gpu):\n",
        "    print('Training on GPU.')\n",
        "else:\n",
        "    print('No GPU available, training on CPU.')"
      ]
    },
    {
      "cell_type": "markdown",
      "metadata": {},
      "source": [
        "Definición del modelo, como fue descrito anteriormente:"
      ]
    },
    {
      "cell_type": "code",
      "execution_count": 631,
      "metadata": {},
      "outputs": [],
      "source": [
        "class SentimentRNN(nn.Module):\n",
        "    def __init__(self, vocab_size, output_size, embedding_dim, hidden_dim, n_layers, drop_prob=0.5):\n",
        "        super(SentimentRNN, self).__init__()\n",
        "        self.output_size = output_size\n",
        "        self.n_layers = n_layers\n",
        "        self.hidden_dim = hidden_dim\n",
        "        # embedding and LSTM layers\n",
        "        self.embedding = nn.Embedding(vocab_size, embedding_dim)\n",
        "        self.lstm = nn.LSTM(embedding_dim, hidden_dim, n_layers,\n",
        "                            dropout=drop_prob, batch_first=True)\n",
        "        # dropout layer\n",
        "        self.dropout = nn.Dropout(drop_prob)\n",
        "        # linear and sigmoid layers\n",
        "        self.fc = nn.Linear(hidden_dim, output_size)\n",
        "        self.sig = nn.Sigmoid()\n",
        "    \n",
        "    def forward(self, x, hidden):\n",
        "        embeds = self.embedding(x)\n",
        "        lstm_out, hidden = self.lstm(embeds, hidden) \n",
        "        # take the last output of the LSTM\n",
        "        lstm_out = lstm_out[:,-1,:]    \n",
        "        # dropout and fully-connected\n",
        "        out = self.dropout(lstm_out)\n",
        "        out = self.fc(out)\n",
        "        # sigmoid\n",
        "        sig_out = self.sig(out)\n",
        "        # return sigmoid and the last hidden state\n",
        "        return sig_out, hidden\n",
        "    \n",
        "    def init_hidden(self, batch_size=BATCH_SIZE):\n",
        "        # create two new tensors with sizes n_layers x batch_size x hidden_dim,\n",
        "        # initialized to zero, for hidden state and cell state of LSTM\n",
        "        weight = next(self.parameters()).data\n",
        "        if(train_on_gpu):\n",
        "          hidden = (weight.new(self.n_layers, batch_size, self.hidden_dim).zero_().cuda(),\n",
        "                   weight.new(self.n_layers, batch_size, self.hidden_dim).zero_().cuda())\n",
        "        else:\n",
        "          hidden = (weight.new(self.n_layers, batch_size, self.hidden_dim).zero_(),\n",
        "                   weight.new(self.n_layers, batch_size, self.hidden_dim).zero_())\n",
        "        return hidden"
      ]
    },
    {
      "cell_type": "markdown",
      "metadata": {},
      "source": [
        "Instanciamiento (seteo de los parámetros mencionados):"
      ]
    },
    {
      "cell_type": "code",
      "execution_count": 632,
      "metadata": {},
      "outputs": [
        {
          "name": "stdout",
          "output_type": "stream",
          "text": [
            "SentimentRNN(\n",
            "  (embedding): Embedding(9397, 50)\n",
            "  (lstm): LSTM(50, 256, num_layers=2, batch_first=True, dropout=0.5)\n",
            "  (dropout): Dropout(p=0.5, inplace=False)\n",
            "  (fc): Linear(in_features=256, out_features=1, bias=True)\n",
            "  (sig): Sigmoid()\n",
            ")\n"
          ]
        }
      ],
      "source": [
        "# Instanciate the RNN\n",
        "vocab_size = len(vocab_to_int) + 1 # +1 for zero padding + our word tokens\n",
        "output_size = 1 # binary classification\n",
        "embedding_dim = 50 # word embedding dimension\n",
        "hidden_dim = 256 # hidden dimension\n",
        "n_layers = 2 # number of LSTM layers\n",
        "\n",
        "net = SentimentRNN(vocab_size, output_size, embedding_dim, hidden_dim, n_layers)\n",
        "\n",
        "print(net)"
      ]
    },
    {
      "cell_type": "markdown",
      "metadata": {},
      "source": [
        "## Parte 6: Training"
      ]
    },
    {
      "cell_type": "markdown",
      "metadata": {},
      "source": [
        "A entrenar el modelo. Un learning rate de 0.001 fue suficientemente bueno.\n",
        "\n",
        "Por otro lado, Cross Entropy Loss es ideal para clasificación binaria, y Adam es un excelente optimizador para este problema.\n",
        "\n",
        "También usaremos gradient clipping para evitar gradientes muy grandes."
      ]
    },
    {
      "cell_type": "code",
      "execution_count": 633,
      "metadata": {},
      "outputs": [],
      "source": [
        "LEARNING_RATE = 0.001\n",
        "\n",
        "criterion = nn.BCELoss()\n",
        "optimizer = torch.optim.Adam(net.parameters(), lr=LEARNING_RATE)"
      ]
    },
    {
      "cell_type": "markdown",
      "metadata": {},
      "source": [
        "Después de algunos intentos con varios números de epochs, el loss de validación dejó de decrecer a los 4 o 5 epochs, y para valores más grandes de epoch empezó a aumentar hasta overfittear.\n",
        "\n",
        "5 epochs parece ser un buen valor."
      ]
    },
    {
      "cell_type": "code",
      "execution_count": 634,
      "metadata": {},
      "outputs": [
        {
          "name": "stdout",
          "output_type": "stream",
          "text": [
            "Epoch: 1/5... Step: 50... Loss: 0.118664... Val Loss: 0.218780\n",
            "Epoch: 2/5... Step: 100... Loss: 0.158365... Val Loss: 0.180397\n",
            "Epoch: 2/5... Step: 150... Loss: 0.080311... Val Loss: 0.146888\n",
            "Epoch: 3/5... Step: 200... Loss: 0.082398... Val Loss: 0.116931\n",
            "Epoch: 4/5... Step: 250... Loss: 0.092349... Val Loss: 0.110323\n",
            "Epoch: 4/5... Step: 300... Loss: 0.006044... Val Loss: 0.123274\n",
            "Epoch: 5/5... Step: 350... Loss: 0.014892... Val Loss: 0.091375\n"
          ]
        }
      ],
      "source": [
        "# arrays for plotting\n",
        "train_losses_for_plot = []\n",
        "val_losses_for_plot = []\n",
        "steps_for_plot = []\n",
        "# training params\n",
        "EPOCHS = 5\n",
        "counter = 0\n",
        "print_every = 50\n",
        "clip = 5 # gradient clipping\n",
        "# move model to GPU, if available\n",
        "if(train_on_gpu):\n",
        "    net.cuda()\n",
        "net.train()\n",
        "# train for some number of epochs\n",
        "for e in range(EPOCHS):\n",
        "    # initialize hidden state\n",
        "    h = net.init_hidden(BATCH_SIZE)\n",
        "    # batch loop\n",
        "    for inputs, labels in train_loader:\n",
        "        counter += 1\n",
        "        if(train_on_gpu):\n",
        "            inputs, labels = inputs.cuda(), labels.cuda()\n",
        "        # Create new vars for the hidden state, otherwise\n",
        "        # we'd backprop through the entire training history\n",
        "        h = tuple([each.data for each in h])\n",
        "        net.zero_grad()\n",
        "        # forward pass\n",
        "        output, h = net(inputs, h)\n",
        "        # calculate loss\n",
        "        loss = criterion(output.squeeze(), labels.float())\n",
        "        # backward pass\n",
        "        loss.backward()\n",
        "        # gradient clipping\n",
        "        nn.utils.clip_grad_norm_(net.parameters(), clip)\n",
        "        optimizer.step()\n",
        "        # messages\n",
        "        if counter % print_every == 0:\n",
        "            # validation loss\n",
        "            val_h = net.init_hidden(BATCH_SIZE)\n",
        "            val_losses = []\n",
        "            net.eval()\n",
        "            for inputs, labels in valid_loader:\n",
        "                val_h = tuple([each.data for each in val_h])\n",
        "                if(train_on_gpu):\n",
        "                    inputs, labels = inputs.cuda(), labels.cuda()\n",
        "                output, val_h = net(inputs, val_h)\n",
        "                val_loss = criterion(output.squeeze(), labels.float())\n",
        "                val_losses.append(val_loss.item())\n",
        "            net.train()\n",
        "            # append losses to plotting arrays\n",
        "            train_losses_for_plot.append(loss.item())\n",
        "            val_losses_for_plot.append(np.mean(val_losses))\n",
        "            steps_for_plot.append(counter)\n",
        "            print(\"Epoch: {}/{}...\".format(e+1, EPOCHS),\n",
        "                  \"Step: {}...\".format(counter),\n",
        "                  \"Loss: {:.6f}...\".format(loss.item()),\n",
        "                  \"Val Loss: {:.6f}\".format(np.mean(val_losses))\n",
        "            )"
      ]
    },
    {
      "cell_type": "code",
      "execution_count": 635,
      "metadata": {},
      "outputs": [
        {
          "data": {
            "image/png": "[encoded data removed]",
            "text/plain": [
              "<Figure size 640x480 with 1 Axes>"
            ]
          },
          "metadata": {},
          "output_type": "display_data"
        }
      ],
      "source": [
        "import matplotlib.pyplot as plt\n",
        "# plot the training losses\n",
        "x = steps_for_plot\n",
        "plt.plot(x, train_losses_for_plot , label='Training loss')\n",
        "plt.plot(x, val_losses_for_plot , label='Validation loss')\n",
        "plt.xlabel('Steps')\n",
        "plt.legend()\n",
        "plt.show()"
      ]
    },
    {
      "cell_type": "markdown",
      "metadata": {},
      "source": [
        "`0.091375`\n",
        "\n",
        "Este es el loss de validación más bajo que logré obtener."
      ]
    },
    {
      "cell_type": "markdown",
      "metadata": {},
      "source": [
        "## Parte 7: Testing"
      ]
    },
    {
      "cell_type": "markdown",
      "metadata": {},
      "source": [
        "Veamos cómo le fue:"
      ]
    },
    {
      "cell_type": "code",
      "execution_count": 636,
      "metadata": {},
      "outputs": [
        {
          "name": "stdout",
          "output_type": "stream",
          "text": [
            "Test loss: 0.091402\n",
            "Test accuracy: 0.963196\n"
          ]
        }
      ],
      "source": [
        "# get test accuracy\n",
        "test_losses = [] # track loss\n",
        "num_correct = 0\n",
        "# iniciate hidden state\n",
        "h = net.init_hidden(BATCH_SIZE)\n",
        "# set network to eval mode\n",
        "net.eval()\n",
        "for inputs, labels in test_loader:\n",
        "    h = tuple([each.data for each in h])\n",
        "    if(train_on_gpu):\n",
        "        inputs, labels = inputs.cuda(), labels.cuda()\n",
        "    output, h = net(inputs, h)\n",
        "    test_loss = criterion(output.squeeze(), labels.float())\n",
        "    test_losses.append(test_loss.item())\n",
        "    # convert probabilities to classes (0,1)\n",
        "    pred = torch.round(output.squeeze())  \n",
        "    # compare label predictions\n",
        "    correct_tensor = pred.eq(labels.float().view_as(pred))\n",
        "    correct = np.squeeze(correct_tensor.numpy()) if not train_on_gpu else np.squeeze(correct_tensor.cpu().numpy())\n",
        "    num_correct += np.sum(correct)\n",
        "\n",
        "# -- stats! -- ##\n",
        "# avg test loss\n",
        "print(\"Test loss: {:.6f}\".format(np.mean(test_losses)))\n",
        "# Accuracy de test\n",
        "test_acc = num_correct/len(test_loader.dataset)\n",
        "print(\"Test accuracy: {:.6f}\".format(test_acc))"
      ]
    },
    {
      "cell_type": "code",
      "execution_count": 637,
      "metadata": {},
      "outputs": [],
      "source": [
        "# waos"
      ]
    },
    {
      "cell_type": "markdown",
      "metadata": {},
      "source": [
        "`0.091402` en loss de test y un accuracy de **96%**. Nada mal. Parece que el modelo ha sido un éxito."
      ]
    },
    {
      "cell_type": "markdown",
      "metadata": {},
      "source": [
        "## Part 8: Inferencia\n",
        "\n",
        "Solo para cerrar, como los inputs son textos cortos y el ser humano entiende intuitivamente cuándo algo es spam y cuándo no, pongamos el modelo a prueba con datos inventados:"
      ]
    },
    {
      "cell_type": "code",
      "execution_count": 640,
      "metadata": {},
      "outputs": [],
      "source": [
        "def tokenize_review(test_review):\n",
        "    test_review = test_review.lower() \n",
        "    test_text = ''.join([c for c in test_review if c not in punctuation])\n",
        "    test_words = test_text.split()\n",
        "    test_ints = []\n",
        "    test_ints.append([vocab_to_int[word] for word in test_words])\n",
        "    return test_ints\n",
        "\n",
        "def predict(net, test_review, sequence_length=SEQ_LEN):\n",
        "    net.eval()\n",
        "    test_ints = tokenize_review(test_review)\n",
        "    seq_length = sequence_length\n",
        "    features = pad_features(test_ints, seq_length)\n",
        "    feature_tensor = torch.from_numpy(features)\n",
        "    batch_size = feature_tensor.size(0)\n",
        "    h = net.init_hidden(batch_size)\n",
        "    if(train_on_gpu):\n",
        "      feature_tensor = feature_tensor.cuda()\n",
        "    output, h = net(feature_tensor, h)\n",
        "    pred = torch.round(output.squeeze())\n",
        "    print('predicted value before rounding: {:.6f}'.format(output.item()))\n",
        "    # print custom response based on whether test_review is pos/neg\n",
        "    if(pred.item()==1):\n",
        "      print('SPAM!')\n",
        "    else:\n",
        "      print('NOT SPAM!')"
      ]
    },
    {
      "cell_type": "code",
      "execution_count": 673,
      "metadata": {},
      "outputs": [
        {
          "name": "stdout",
          "output_type": "stream",
          "text": [
            "predicted value before rounding: 0.032098\n",
            "NOT SPAM!\n",
            "predicted value before rounding: 0.129617\n",
            "NOT SPAM!\n",
            "predicted value before rounding: 0.822795\n",
            "SPAM!\n",
            "predicted value before rounding: 0.992146\n",
            "SPAM!\n",
            "predicted value before rounding: 0.005856\n",
            "NOT SPAM!\n",
            "predicted value before rounding: 0.737476\n",
            "SPAM!\n",
            "predicted value before rounding: 0.782233\n",
            "SPAM!\n",
            "predicted value before rounding: 0.063951\n",
            "NOT SPAM!\n"
          ]
        }
      ],
      "source": [
        "test_spam_1 = \"lonely single moms in your area want to meet you click here\"\n",
        "test_spam_2 = \"free money for you just sign up here for free money\"\n",
        "test_spam_3 = \"congratulations you won a free trip to the bahamas click here to claim your prize\"\n",
        "test_spam_4 = \"you have been selected to receive a free gift card click here to claim your free money\"\n",
        "test_spam_5 = \"your computer may be in danger click here to download a fix\"\n",
        "test_spam_6 = \"a prince wants to give you money for no reason type your bank account info here for free money\"\n",
        "test_spam_7 = \"free cash click here to claim your free cash now\"\n",
        "test_spam_8 = \"h hi c can i p please have your credit card n number t the date and the t three numbers on the back? t thanks...\"\n",
        "\n",
        "predict(net, test_spam_1)\n",
        "predict(net, test_spam_2)\n",
        "predict(net, test_spam_3)\n",
        "predict(net, test_spam_4)\n",
        "predict(net, test_spam_5)\n",
        "predict(net, test_spam_6)\n",
        "predict(net, test_spam_7)\n",
        "predict(net, test_spam_8)\n",
        "\n"
      ]
    },
    {
      "cell_type": "code",
      "execution_count": 674,
      "metadata": {},
      "outputs": [
        {
          "name": "stdout",
          "output_type": "stream",
          "text": [
            "predicted value before rounding: 0.007543\n",
            "NOT SPAM!\n",
            "predicted value before rounding: 0.067992\n",
            "NOT SPAM!\n",
            "predicted value before rounding: 0.005268\n",
            "NOT SPAM!\n",
            "predicted value before rounding: 0.003132\n",
            "NOT SPAM!\n",
            "predicted value before rounding: 0.001183\n",
            "NOT SPAM!\n",
            "predicted value before rounding: 0.002254\n",
            "NOT SPAM!\n",
            "predicted value before rounding: 0.002151\n",
            "NOT SPAM!\n",
            "predicted value before rounding: 0.002056\n",
            "NOT SPAM!\n"
          ]
        }
      ],
      "source": [
        "test_not_spam_1 = \"hey dude what's up are you coming to the party tonight? call me when you see this, thanks\"\n",
        "test_not_spam_2 = \"please PLEASSSSSSSEEEEEE for the love of god tell you you finished the deep learn ing home work\"\n",
        "test_not_spam_3 = \"you should love yourself NOW!\"\n",
        "test_not_spam_4 = \"hey man, we're going to the movies tonight, wanna come?\"\n",
        "test_not_spam_5 = \"did you seriously spend your entire pay check on a n i me figures again? seriously?\"\n",
        "test_not_spam_6 = \"stop ignoring me, what are we supposed to do now? you're such a jerk you god damn we e b, how are we gonna make it this month?\"\n",
        "test_not_spam_7 = \"you know what? no we're done. we're over unless you stop watching that mo e trash, you don't even look at me anymore\"\n",
        "test_not_spam_8 = \"hey man, wanna play league?\"\n",
        "\n",
        "predict(net, test_not_spam_1)\n",
        "predict(net, test_not_spam_2)\n",
        "predict(net, test_not_spam_3)\n",
        "predict(net, test_not_spam_4)\n",
        "predict(net, test_not_spam_5)\n",
        "predict(net, test_not_spam_6)\n",
        "predict(net, test_not_spam_7)\n",
        "predict(net, test_not_spam_8)"
      ]
    },
    {
      "cell_type": "markdown",
      "metadata": {},
      "source": [
        "Hmm... parece que el modelo no es tan bueno como pensábamos. O sí?\n",
        "\n",
        "Hay que recordar que un modelo solo puede llegar a ser tan bueno como la data entregada se lo permite.\n",
        "\n",
        "Recordemos que, de los 5572 textos que teníamos, solo 746 eran spam. Solo el 13% de la data. Así que primero que nada, es esperable que sea mejor detectando cuando algo ***no*** es spam que cuando algo es spam.\n",
        "\n",
        "Pero además, tenemos un muestreo bastante chico de \"*lo que puede ser llamado spam*\". El modelo solo tiene conocimiento de un slice muy chico de lo que se puede considerar como spam, y al parecer terminó siendo un slice demasiado cesgado. No necesariamente es data que representa bien el problema.\n",
        "\n",
        "A pesar de que se obtuvieron resultados impresionantes, i.e: un accuracy de test del 96%, estos resultados no significan mucho en el gran esquema de las cosas, ya que estas métricas solo son relativas a los datos usados, y no son necesariamente la mejor representación del mundo real, o de lo que podría esperar el usuario.\n",
        "\n",
        "Hay que tener estas cosas en mente al diseñar modelos de Deep Learning. El verdadero *test* de un modelo es su desempeño en el mundo real."
      ]
    }
  ],
  "metadata": {
    "colab": {
      "provenance": []
    },
    "kernelspec": {
      "display_name": "Python 3",
      "name": "python3"
    },
    "language_info": {
      "codemirror_mode": {
        "name": "ipython",
        "version": 3
      },
      "file_extension": ".py",
      "mimetype": "text/x-python",
      "name": "python",
      "nbconvert_exporter": "python",
      "pygments_lexer": "ipython3",
      "version": "3.11.4"
    }
  },
  "nbformat": 4,
  "nbformat_minor": 0
}
